{
 "cells": [
  {
   "cell_type": "code",
   "execution_count": 1,
   "metadata": {
    "collapsed": true,
    "pycharm": {
     "is_executing": false,
     "name": "#%% \n"
    }
   },
   "outputs": [],
   "source": [
    "import matplotlib\n",
    "from sklearn.model_selection import ShuffleSplit \n",
    "matplotlib.use('Qt5Agg')\n",
    "import matplotlib.pyplot as plt\n",
    "from src.utils import *\n",
    "from src.InstrumentalVariable import InstrumentalVariable\n",
    "from sklearn.metrics import r2_score\n",
    "from scipy.special import softmax"
   ]
  },
  {
   "cell_type": "code",
   "execution_count": 2,
   "outputs": [],
   "source": [
    "def cor_selector(X, y):\n",
    "    cor_list = []\n",
    "    n_tests, n_metrics  = X.shape\n",
    "\n",
    "    for i in range(n_metrics):\n",
    "        cor = np.corrcoef(X[:, i], y)[0, 1]\n",
    "        cor_list.append(cor)\n",
    "    # replace NaN with 0\n",
    "    cor_list = [0 if np.isnan(i) else i for i in cor_list]\n",
    "    # feature name\n",
    "    return cor_list"
   ],
   "metadata": {
    "collapsed": false,
    "pycharm": {
     "name": "#%%\n",
     "is_executing": false
    }
   }
  },
  {
   "cell_type": "code",
   "execution_count": 30,
   "outputs": [],
   "source": [
    "def run_manifold_tests(X, y, max_outlier=0.2, min_p_value=80, max_p_value=95, bootstrap=True, min_l2_reg=0, \n",
    "                       max_l2_reg=50, n_tests=100):\n",
    "    n_samples, n_features, _ = X.shape\n",
    "    experiment_coefs = np.zeros((n_tests, n_features))\n",
    "    experiment_meta_info = []\n",
    "    for experiment in experiment_coefs:\n",
    "        meta_info = {}\n",
    "        p_value = np.random.uniform(min_p_value, max_p_value)\n",
    "        meta_info['p_value'] = p_value\n",
    "        \n",
    "        if max_outlier > 0:\n",
    "            nu = np.random.uniform(0, max_outlier)\n",
    "            meta_info['nu'] = nu            \n",
    "        else:\n",
    "            nu = None\n",
    "            \n",
    "        if max_l2_reg > 0:\n",
    "            l2_reg = np.random.uniform(min_l2_reg, max_l2_reg)\n",
    "            meta_info['l2_reg'] = l2_reg\n",
    "        else:\n",
    "            l2_reg = None\n",
    "            \n",
    "        iv_model = InstrumentalVariable(p_value, l2_reg)\n",
    "                \n",
    "        sh_split = ShuffleSplit(n_splits=1, test_size=0.1)\n",
    "        for train_index, test_index in sh_split.split(X, y):\n",
    "            X_train, X_test = X[train_index], X[test_index]\n",
    "            y_train, y_test = y[train_index], y[test_index]\n",
    "            \n",
    "            feature_probs = np.abs(cor_selector(X_train[:, :, 0], y_train))\n",
    "            feature_probs = feature_probs / sum(feature_probs)\n",
    "            # feature_probs = softmax(feature_probs)\n",
    "            feature_size = np.random.randint(8, n_features + 1)\n",
    "            feature_inds = np.random.choice(n_features, feature_size, replace=False, p=feature_probs)\n",
    "            feature_inds = sorted(feature_inds)\n",
    "            meta_info['features'] = feature_inds\n",
    "            \n",
    "            X_train, X_test = X_train[:, feature_inds], X_test[:, feature_inds]\n",
    "            \n",
    "            outliers = get_outlier_experiments(np.append(short_metrics[train_index], long_metrics[train_index],\n",
    "                                                         axis=1), nu=nu)\n",
    "            mask = np.ones(len(X_train), np.bool)\n",
    "            mask[outliers] = 0\n",
    "            X_train, y_train = X_train[mask], y_train[mask]\n",
    "            \n",
    "            if bootstrap:\n",
    "                bootstrap_inds = np.random.choice(len(X_train), len(X_train))\n",
    "                X_train, y_train = X_train[bootstrap_inds], y_train[bootstrap_inds]\n",
    "                \n",
    "            iv_model.fit(X_train, y_train)\n",
    "            y_pred = iv_model.predict(X_test)\n",
    "            r2 = r2_score(y_test, y_pred)\n",
    "            meta_info['r2'] = r2\n",
    "            np.put(experiment, feature_inds, iv_model.coef_)\n",
    "            experiment_meta_info.append(meta_info)\n",
    "    return experiment_coefs, experiment_meta_info"
   ],
   "metadata": {
    "collapsed": false,
    "pycharm": {
     "name": "#%%\n",
     "is_executing": false
    }
   }
  },
  {
   "cell_type": "code",
   "execution_count": 31,
   "outputs": [],
   "source": [
    "def meta_to_text(meta_info):\n",
    "    text_info = []\n",
    "    for exp_info in meta_info:\n",
    "        text = \"\"\n",
    "        for k, v in exp_info.items():\n",
    "            if isinstance(v, list):\n",
    "                text_value = \", \".join(list(map(lambda num: str(round(num, 2)), v)))\n",
    "            else:\n",
    "                text_value = str(round(v, 2))\n",
    "            text += str.format(\"{}: {} \", k, text_value)      \n",
    "        text_info.append(text)\n",
    "    return text_info"
   ],
   "metadata": {
    "collapsed": false,
    "pycharm": {
     "name": "#%%\n",
     "is_executing": false
    }
   }
  },
  {
   "cell_type": "code",
   "execution_count": 32,
   "outputs": [],
   "source": [
    "def filter_metrics(coefs):\n",
    "    positive_coefs = np.apply_along_axis(lambda feature: len(np.where(feature > 0)[0]), 0, coefs)\n",
    "    negative_coefs = np.apply_along_axis(lambda feature: len(np.where(feature < 0)[0]), 0, coefs)\n",
    "    filtered_coef_inds = []\n",
    "    for i, feature_coefs in enumerate(coefs.T):\n",
    "        pos = positive_coefs[i]\n",
    "        neg = negative_coefs[i]\n",
    "        if pos == 0 or neg == 0 or min(pos/neg, neg/pos) < 0.2:\n",
    "            filtered_coef_inds.append(i)\n",
    "    return np.array(filtered_coef_inds)"
   ],
   "metadata": {
    "collapsed": false,
    "pycharm": {
     "name": "#%%\n",
     "is_executing": false
    }
   }
  },
  {
   "cell_type": "code",
   "execution_count": 33,
   "outputs": [],
   "source": [
    "def plot_coefficients(coefs, meta_info, metric_map=None):\n",
    "    def update_annot(ind):\n",
    "        text = \"\\n\".join(list(map(text_info.__getitem__, ind[\"ind\"])))\n",
    "        annot.set_text(text)\n",
    "\n",
    "    def hover(event):\n",
    "        visible = annot.get_visible()\n",
    "        cont, ind = False, None\n",
    "        for col in collections:\n",
    "            cont, ind = col.contains(event)\n",
    "            if cont:\n",
    "                break\n",
    "        if cont:\n",
    "            update_annot(ind)\n",
    "            annot.set_visible(True)\n",
    "            fig.canvas.draw_idle()\n",
    "        elif visible:\n",
    "            annot.set_visible(False)\n",
    "            fig.canvas.draw_idle()\n",
    "    \n",
    "    # def on_pick(event):\n",
    "    #     for col in collections:\n",
    "    #         cur_color = col._facecolors[event.ind][0]\n",
    "    #         if np.array_equal(cur_color, np.array(mcolors.to_rgba('r'))):\n",
    "    #             new_color = mcolors.to_rgba('b')\n",
    "    #         else:\n",
    "    #             new_color = mcolors.to_rgba('r')\n",
    "    #         col._facecolors[event.ind] = new_color\n",
    "    #         col._edgecolors[event.ind] = new_color\n",
    "    #     fig.canvas.draw_idle()\n",
    "            \n",
    "    n_tests, n_features = coefs.shape\n",
    "    text_info = meta_to_text(meta_info)\n",
    "    r2_values = [experiment['r2'] for experiment in meta_info]\n",
    "    \n",
    "    fig, axes = plt.subplots(nrows=n_features, sharex=True)\n",
    "    fig.suptitle(\"2_metric_stability\")\n",
    "    collections = []\n",
    "    for i, metric_coefs in enumerate(coefs.T):\n",
    "        ax = axes[i]\n",
    "        ax.set_title('Weights for short_term_' + str(metric_map[i]), loc='left')\n",
    "        ax.plot([0, 0], [-1, 1], 'r')\n",
    "        annot = ax.annotate(\"\", xy=(50, 50), xycoords='figure pixels', xytext=(50, 50), textcoords='figure pixels', \n",
    "                    bbox=dict(boxstyle=\"round\", fc=\"w\"))\n",
    "        annot.set_visible(False)\n",
    "        col = ax.scatter(metric_coefs, np.random.rand(n_tests) * 2 - 1, c=r2_values, \n",
    "                         cmap=plt.get_cmap(\"RdBu\"), picker=5, s=50)\n",
    "        collections.append(col)\n",
    "    \n",
    "    # fig.canvas.mpl_connect(\"pick_event\", on_pick)\n",
    "    fig.canvas.mpl_connect(\"motion_notify_event\", hover)\n",
    "    plt.show()"
   ],
   "metadata": {
    "collapsed": false,
    "pycharm": {
     "name": "#%%\n",
     "is_executing": false
    }
   }
  },
  {
   "cell_type": "code",
   "execution_count": 34,
   "outputs": [],
   "source": [
    "short_metrics_p, long_metrics_p = read_data(shift=True)\n",
    "short_metrics = short_metrics_p[:, :, 0]\n",
    "long_metrics = long_metrics_p[:, :, 0]\n",
    "\n",
    "target_metric_p = long_metrics_p[:, 0, :]   # <--- here you can choose target (0, 1, 2, 3)\n",
    "target_metric = target_metric_p[:, 0]"
   ],
   "metadata": {
    "collapsed": false,
    "pycharm": {
     "name": "#%%\n",
     "is_executing": false
    }
   }
  },
  {
   "cell_type": "code",
   "execution_count": 35,
   "outputs": [],
   "source": [
    "#main part of the sandbox, as it allows to change the constraints\n",
    "\n",
    "coefs, info = run_manifold_tests(short_metrics_p, target_metric, max_outlier=0.1,\n",
    "                                 min_l2_reg=70, max_l2_reg=200,\n",
    "                                 min_p_value=80, max_p_value=95, n_tests=1000)"
   ],
   "metadata": {
    "collapsed": false,
    "pycharm": {
     "name": "#%%\n",
     "is_executing": false
    }
   }
  },
  {
   "cell_type": "code",
   "execution_count": 36,
   "outputs": [],
   "source": [
    "clear_metrics = filter_metrics(coefs)\n",
    "coefs = coefs[:, clear_metrics]"
   ],
   "metadata": {
    "collapsed": false,
    "pycharm": {
     "name": "#%%\n",
     "is_executing": false
    }
   }
  },
  {
   "cell_type": "code",
   "execution_count": 37,
   "outputs": [
    {
     "name": "stdout",
     "text": [
      "0.48210860176855946\n"
     ],
     "output_type": "stream"
    }
   ],
   "source": [
    "print(np.mean([experiment['r2'] for experiment in info]))"
   ],
   "metadata": {
    "collapsed": false,
    "pycharm": {
     "name": "#%%\n",
     "is_executing": false
    }
   }
  },
  {
   "cell_type": "code",
   "execution_count": 38,
   "outputs": [],
   "source": [
    "plot_coefficients(coefs, info, clear_metrics)\n"
   ],
   "metadata": {
    "collapsed": false,
    "pycharm": {
     "name": "#%%\n",
     "is_executing": false
    }
   }
  },
  {
   "cell_type": "code",
   "execution_count": null,
   "outputs": [],
   "source": [
    "\n"
   ],
   "metadata": {
    "collapsed": false,
    "pycharm": {
     "name": "#%%\n"
    }
   }
  }
 ],
 "metadata": {
  "kernelspec": {
   "name": "python3",
   "language": "python",
   "display_name": "Python 3"
  },
  "language_info": {
   "codemirror_mode": {
    "name": "ipython",
    "version": 2
   },
   "file_extension": ".py",
   "mimetype": "text/x-python",
   "name": "python",
   "nbconvert_exporter": "python",
   "pygments_lexer": "ipython2",
   "version": "2.7.6"
  },
  "pycharm": {
   "stem_cell": {
    "cell_type": "raw",
    "source": [],
    "metadata": {
     "collapsed": false
    }
   }
  }
 },
 "nbformat": 4,
 "nbformat_minor": 0
}