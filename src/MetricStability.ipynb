{
 "cells": [
  {
   "cell_type": "code",
   "execution_count": 1,
   "metadata": {
    "collapsed": true,
    "pycharm": {
     "is_executing": false
    }
   },
   "outputs": [],
   "source": [
    "import matplotlib \n",
    "matplotlib.use('Qt5Agg')\n",
    "import matplotlib.pyplot as plt\n",
    "import matplotlib.colors as mcolors\n",
    "from src.utils import *\n",
    "from src.InstrumentalVariable import InstrumentalVariable\n",
    "from sklearn.metrics import r2_score"
   ]
  },
  {
   "cell_type": "code",
   "execution_count": 2,
   "outputs": [],
   "source": [
    "def run_manifold_tests(X, y, max_outlier=0.15, min_p_value=80, max_p_value=95, bootstrap=True, max_l2_reg=0, \n",
    "                       n_tests=100):\n",
    "    n_samples, n_features, _ = X.shape\n",
    "    experiment_coefs = np.zeros((n_tests, n_features))\n",
    "    experiment_meta_info = []\n",
    "    for experiment in experiment_coefs:\n",
    "        meta_info = {}\n",
    "        p_value = np.random.uniform(min_p_value, max_p_value)\n",
    "        meta_info['p_value'] = p_value\n",
    "        \n",
    "        if max_outlier > 0:\n",
    "            nu = np.random.uniform(0, max_outlier)\n",
    "            meta_info['nu'] = nu            \n",
    "        else:\n",
    "            nu = None\n",
    "            \n",
    "        if max_l2_reg > 0:\n",
    "            l2_reg = np.random.uniform(0, max_l2_reg)\n",
    "            meta_info['l2_reg'] = l2_reg\n",
    "        else:\n",
    "            l2_reg = None\n",
    "        iv_model = InstrumentalVariable(p_value, l2_reg)\n",
    "        \n",
    "        feature_size = np.random.randint(5, n_features + 1)\n",
    "        feature_inds = np.random.choice(n_features, feature_size, replace=False)\n",
    "        feature_inds = sorted(feature_inds)\n",
    "        meta_info['features'] = feature_inds\n",
    "        \n",
    "        outliers = get_outlier_experiments(np.append(short_metrics, long_metrics, axis=1), nu=nu)\n",
    "        mask = np.ones(len(X), np.bool)\n",
    "        mask[outliers] = 0\n",
    "        \n",
    "        boostrap_inds = np.random.choice(len(X) - len(outliers), len(X) - len(outliers))\n",
    "        \n",
    "        iv_model.fit(X[:, feature_inds][mask][boostrap_inds], y[mask][boostrap_inds])\n",
    "        y_pred = iv_model.predict(X[:, feature_inds])\n",
    "        r2 = r2_score(y, y_pred)\n",
    "        meta_info['r2'] = r2\n",
    "        np.put(experiment, feature_inds, iv_model.coef)\n",
    "        experiment_meta_info.append(meta_info)\n",
    "    return experiment_coefs, experiment_meta_info"
   ],
   "metadata": {
    "collapsed": false,
    "pycharm": {
     "name": "#%%\n",
     "is_executing": false
    }
   }
  },
  {
   "cell_type": "code",
   "execution_count": 3,
   "outputs": [],
   "source": [
    "def meta_to_text(meta_info):\n",
    "    text_info = []\n",
    "    for exp_info in meta_info:\n",
    "        text = \"\"\n",
    "        for k, v in exp_info.items():\n",
    "            if isinstance(v, list):\n",
    "                text_value = \", \".join(list(map(lambda num: str(round(num, 2)), v)))\n",
    "            else:\n",
    "                text_value = str(round(v, 2))\n",
    "            text += str.format(\"{}: {} \", k, text_value)      \n",
    "        text_info.append(text)\n",
    "    return text_info"
   ],
   "metadata": {
    "collapsed": false,
    "pycharm": {
     "name": "#%%\n",
     "is_executing": false
    }
   }
  },
  {
   "cell_type": "code",
   "execution_count": 4,
   "outputs": [],
   "source": [
    "def plot_coefficients(coefs, meta_info):\n",
    "    def update_annot(ind):\n",
    "        text = \"\\n\".join(list(map(text_info.__getitem__, ind[\"ind\"])))\n",
    "        annot.set_text(text)\n",
    "\n",
    "    def hover(event):\n",
    "        visible = annot.get_visible()\n",
    "        cont, ind = False, None\n",
    "        for col in collections:\n",
    "            cont, ind = col.contains(event)\n",
    "            if cont:\n",
    "                break\n",
    "        if cont:\n",
    "            update_annot(ind)\n",
    "            annot.set_visible(True)\n",
    "            fig.canvas.draw_idle()\n",
    "        elif visible:\n",
    "            annot.set_visible(False)\n",
    "            fig.canvas.draw_idle()\n",
    "    \n",
    "    def on_pick(event):\n",
    "        for col in collections:\n",
    "            cur_color = col._facecolors[event.ind][0]\n",
    "            if np.array_equal(cur_color, np.array(mcolors.to_rgba('r'))):\n",
    "                new_color = mcolors.to_rgba('b')\n",
    "            else:\n",
    "                new_color = mcolors.to_rgba('r')\n",
    "            col._facecolors[event.ind] = new_color\n",
    "            col._edgecolors[event.ind] = new_color\n",
    "        fig.canvas.draw_idle()\n",
    "\n",
    "    n_tests, n_features = coefs.shape\n",
    "    positive_coefs = np.apply_along_axis(lambda feature: len(np.where(feature > 0)[0]), 0, coefs)\n",
    "    negative_coefs = np.apply_along_axis(lambda feature: len(np.where(feature < 0)[0]), 0, coefs)\n",
    "    filtered_coefs = []\n",
    "    filtered_coef_nums = []\n",
    "    for i, feature_coefs in enumerate(coefs.T):\n",
    "        pos = positive_coefs[i]\n",
    "        neg = negative_coefs[i]\n",
    "        if pos == 0 or neg == 0 or min(pos/neg, neg/pos) < 0.2:\n",
    "            filtered_coefs.append(feature_coefs)\n",
    "            filtered_coef_nums.append(i)\n",
    "    filtered_coefs = np.array(filtered_coefs)        \n",
    "    \n",
    "    text_info = meta_to_text(meta_info)\n",
    "    \n",
    "    fig, axes = plt.subplots(nrows=len(filtered_coefs), sharex=True)\n",
    "    collections = []\n",
    "    annots = []\n",
    "    for i in range(len(filtered_coefs)):\n",
    "        ax = axes[i]\n",
    "        ax.set_title('Weights for short_term_' + str(filtered_coef_nums[i]), loc='left')\n",
    "        # ax.title.set_text('Weights for short_term_' + str(filtered_coef_nums[i]))\n",
    "        ax.plot([0, 0], [-1, 1], 'r')\n",
    "        annot = ax.annotate(\"\", xy=(50, 50), xycoords='figure pixels', xytext=(50, 50), textcoords='figure pixels', \n",
    "                    bbox=dict(boxstyle=\"round\", fc=\"w\"))\n",
    "        annot.set_visible(False)\n",
    "        col = ax.scatter(filtered_coefs[i], np.random.rand(n_tests) * 2 - 1, color=[\"blue\"]*n_tests, picker=5, s=50)\n",
    "        collections.append(col)\n",
    "        annots.append(annot)\n",
    "        \n",
    "    fig.canvas.mpl_connect(\"pick_event\", on_pick)\n",
    "    fig.canvas.mpl_connect(\"motion_notify_event\", hover)\n",
    "    plt.show()"
   ],
   "metadata": {
    "collapsed": false,
    "pycharm": {
     "name": "#%%\n",
     "is_executing": false
    }
   }
  },
  {
   "cell_type": "code",
   "execution_count": 5,
   "outputs": [],
   "source": [
    "short_metrics_p, long_metrics_p = read_data(shift=True)\n",
    "short_metrics = short_metrics_p[:, :, 0]\n",
    "long_metrics = long_metrics_p[:, :, 0]\n",
    "\n",
    "target_metric_p = long_metrics_p[:, 0, :]\n",
    "target_metric = target_metric_p[:, 0]"
   ],
   "metadata": {
    "collapsed": false,
    "pycharm": {
     "name": "#%%\n",
     "is_executing": false
    }
   }
  },
  {
   "cell_type": "code",
   "execution_count": 8,
   "outputs": [],
   "source": [
    "coefs, info = run_manifold_tests(short_metrics_p, target_metric, max_l2_reg=0.1, \n",
    "                                 min_p_value=95, max_p_value=99, n_tests=1000)"
   ],
   "metadata": {
    "collapsed": false,
    "pycharm": {
     "name": "#%%\n",
     "is_executing": false
    }
   }
  },
  {
   "cell_type": "code",
   "execution_count": 9,
   "outputs": [],
   "source": [
    "plot_coefficients(coefs, info)"
   ],
   "metadata": {
    "collapsed": false,
    "pycharm": {
     "name": "#%%\n",
     "is_executing": false
    }
   }
  },
  {
   "cell_type": "code",
   "execution_count": 7,
   "outputs": [],
   "source": [],
   "metadata": {
    "collapsed": false,
    "pycharm": {
     "name": "#%%\n",
     "is_executing": false
    }
   }
  },
  {
   "cell_type": "code",
   "execution_count": null,
   "outputs": [],
   "source": [
    "\n"
   ],
   "metadata": {
    "collapsed": false,
    "pycharm": {
     "name": "#%%\n"
    }
   }
  }
 ],
 "metadata": {
  "kernelspec": {
   "name": "pycharm-61dc9535",
   "language": "python",
   "display_name": "PyCharm (VK_Graduation)"
  },
  "language_info": {
   "codemirror_mode": {
    "name": "ipython",
    "version": 2
   },
   "file_extension": ".py",
   "mimetype": "text/x-python",
   "name": "python",
   "nbconvert_exporter": "python",
   "pygments_lexer": "ipython2",
   "version": "2.7.6"
  },
  "pycharm": {
   "stem_cell": {
    "cell_type": "raw",
    "source": [],
    "metadata": {
     "collapsed": false
    }
   }
  }
 },
 "nbformat": 4,
 "nbformat_minor": 0
}