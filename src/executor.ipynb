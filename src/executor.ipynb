{
 "cells": [
  {
   "cell_type": "code",
   "execution_count": 1,
   "metadata": {
    "pycharm": {
     "is_executing": false
    }
   },
   "outputs": [],
   "source": [
    "import numpy as np\n",
    "import pandas as pd\n",
    "from sklearn.model_selection import cross_validate, GridSearchCV\n",
    "from sklearn.metrics import f1_score, accuracy_score, precision_score, recall_score, mean_absolute_error\n",
    "from src.utils import *\n",
    "from src.MetricLinearRegression import MetricLinearRegression\n",
    "import matplotlib.pyplot as plt"
   ]
  },
  {
   "cell_type": "code",
   "execution_count": 13,
   "metadata": {
    "pycharm": {
     "is_executing": false
    }
   },
   "outputs": [],
   "source": [
    "def neg_mean_error(estimator, X, y_true):\n",
    "    y_true = discretize_metric(y_true[:, 0], estimator.pos_threshold, estimator.neg_threshold)\n",
    "    y_pred = estimator.predict(X)\n",
    "    print(y_true)\n",
    "    print(y_pred)\n",
    "    return -mean_absolute_error(y_true, y_pred)"
   ]
  },
  {
   "cell_type": "code",
   "execution_count": 15,
   "metadata": {
    "pycharm": {
     "is_executing": false
    }
   },
   "outputs": [],
   "source": [
    "def grid_search(X, y):\n",
    "    lin_reg = MetricLinearRegression()\n",
    "    grid_reg = np.linspace(0, 10, num=50)\n",
    "    grid_beta = np.linspace(0, 10, num=5)\n",
    "    params = {'l2_reg': grid_reg, 'beta': grid_beta}\n",
    "    gs = GridSearchCV(lin_reg, param_grid=params, scoring=neg_mean_error, iid=False, cv=5, verbose=1, n_jobs=-1)\n",
    "    gs.fit(X, y)\n",
    "    print(gs.best_score_)\n",
    "    print(gs.best_params_)\n",
    "    return gs.cv_results_"
   ]
  },
  {
   "cell_type": "code",
   "execution_count": 4,
   "metadata": {
    "pycharm": {
     "is_executing": false
    }
   },
   "outputs": [],
   "source": [
    "def evaluate_model(X, y, l2_reg, beta, pos_threshold, neg_threshold):\n",
    "    lin_reg = MetricLinearRegression(l2_reg, beta, pos_threshold=pos_threshold, neg_threshold=neg_threshold)\n",
    "    scores = cross_validate(lin_reg, X, y, scoring=neg_mean_error, cv=5, n_jobs=-1)\n",
    "    print(np.mean(scores['test_score']))"
   ]
  },
  {
   "cell_type": "code",
   "execution_count": 6,
   "metadata": {
    "pycharm": {
     "is_executing": false
    }
   },
   "outputs": [],
   "source": [
    "dataset_path = '../dataset/feed_top_ab_tests_pool_dataset.csv'\n",
    "\n",
    "df = pd.read_csv(dataset_path)\n",
    "data = df.to_numpy()\n",
    "LONG_TERM_COUNT = 4\n",
    "y = data[:, :LONG_TERM_COUNT * 2]\n",
    "X = data[:, LONG_TERM_COUNT * 2:-1]\n",
    "zipped_X = zip_with_p_value(X)\n",
    "zipped_y = zip_with_p_value(y)\n",
    "\n",
    "zipped_X[:] = [shift_on_zero_value(short_term_metric) for short_term_metric in zipped_X[:]]\n",
    "\n",
    "X = zipped_X[:, :, 0]\n",
    "y = zipped_y[:, 2, :]\n",
    "\n",
    "y = shift_on_zero_value(y)"
   ]
  },
  {
   "cell_type": "code",
   "execution_count": null,
   "metadata": {
    "pycharm": {
     "is_executing": true
    }
   },
   "outputs": [
    {
     "name": "stdout",
     "text": [
      "Fitting 5 folds for each of 2500 candidates, totalling 12500 fits\n"
     ],
     "output_type": "stream"
    },
    {
     "name": "stderr",
     "text": [
      "[Parallel(n_jobs=-1)]: Using backend LokyBackend with 4 concurrent workers.\n",
      "[Parallel(n_jobs=-1)]: Done  48 tasks      | elapsed:    3.5s\n",
      "[Parallel(n_jobs=-1)]: Done 620 tasks      | elapsed:   28.4s\n",
      "[Parallel(n_jobs=-1)]: Done 870 tasks      | elapsed:   46.2s\n",
      "[Parallel(n_jobs=-1)]: Done 1220 tasks      | elapsed: 48.8min\n"
     ],
     "output_type": "stream"
    }
   ],
   "source": [
    "result = grid_search(X, y)\n",
    "print(result)"
   ]
  },
  {
   "cell_type": "code",
   "execution_count": null,
   "metadata": {
    "pycharm": {
     "is_executing": false
    }
   },
   "outputs": [],
   "source": [
    "# l2_reg = 3.8775510204081636\n",
    "# beta = 0\n",
    "# threshold = 0.035\n",
    "# evaluate_model(X, y, l2_reg, beta, threshold)"
   ]
  },
  {
   "cell_type": "code",
   "execution_count": 7,
   "metadata": {
    "pycharm": {
     "is_executing": false
    }
   },
   "outputs": [
    {
     "data": {
      "text/plain": "<Figure size 432x288 with 1 Axes>",
      "image/png": "[encoded data removed]"
     },
     "metadata": {
      "needs_background": "light"
     },
     "output_type": "display_data"
    }
   ],
   "source": [
    "x = [0, 100]\n",
    "pos_threshold = get_positive_threshold(y, 99)\n",
    "neg_threshold = get_negative_threshold(y, 99)\n",
    "y1 = [pos_threshold, pos_threshold]\n",
    "y2 = [neg_threshold, neg_threshold]\n",
    "plt.plot(x, y1, 'b')\n",
    "plt.plot(x, y2, 'b')\n",
    "plt.plot(y[:, 1], y[:, 0], 'r.')\n",
    "plt.show()"
   ]
  }
 ],
 "metadata": {
  "kernelspec": {
   "name": "pycharm-ae649e72",
   "language": "python",
   "display_name": "PyCharm (VK_Graduation)"
  },
  "language_info": {
   "codemirror_mode": {
    "name": "ipython",
    "version": 3
   },
   "file_extension": ".py",
   "mimetype": "text/x-python",
   "name": "python",
   "nbconvert_exporter": "python",
   "pygments_lexer": "ipython3",
   "version": "3.6.8"
  },
  "pycharm": {
   "stem_cell": {
    "cell_type": "raw",
    "source": [],
    "metadata": {
     "collapsed": false
    }
   }
  }
 },
 "nbformat": 4,
 "nbformat_minor": 2
}