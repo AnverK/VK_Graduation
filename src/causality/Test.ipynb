{
 "cells": [
  {
   "cell_type": "code",
   "execution_count": 8,
   "metadata": {
    "ExecuteTime": {
     "start_time": "2020-02-05T12:17:29.862Z"
    },
    "pycharm": {
     "is_executing": false
    }
   },
   "outputs": [],
   "source": [
    "import pymc3 as pm\n",
    "import src.utils as utils\n",
    "import matplotlib.pyplot as plt\n",
    "import numpy as np\n",
    "from sklearn.model_selection import train_test_split\n",
    "import theano.tensor as tt\n",
    "import theano \n",
    "import seaborn as sns\n",
    "import pandas as pd\n",
    "from sklearn.metrics import mean_squared_error"
   ]
  },
  {
   "cell_type": "code",
   "execution_count": 9,
   "metadata": {
    "ExecuteTime": {
     "end_time": "2020-02-05T12:13:38.093715Z",
     "start_time": "2020-02-05T12:13:38.074727Z"
    },
    "pycharm": {
     "is_executing": false,
     "name": "#%%\n"
    }
   },
   "outputs": [],
   "source": [
    "short_metrics_p, long_metrics_p = utils.read_data(shift=True)\n",
    "short_metrics = short_metrics_p[:, :, 0]\n",
    "long_metrics = long_metrics_p[:, :, 0]\n",
    "\n",
    "target_metric_p = long_metrics_p[:, 0, :]   # <--- here you can choose target (0, 1, 2, 3)\n",
    "target_metric = target_metric_p[:, 0]"
   ]
  },
  {
   "cell_type": "code",
   "execution_count": 10,
   "metadata": {
    "ExecuteTime": {
     "end_time": "2020-02-05T12:13:40.675121Z",
     "start_time": "2020-02-05T12:13:40.670124Z"
    },
    "pycharm": {
     "is_executing": false,
     "name": "#%%\n"
    }
   },
   "outputs": [],
   "source": [
    "sm_train, sm_test, lm_train, lm_test = train_test_split(short_metrics, target_metric)\n",
    "train_size = len(sm_train)\n",
    "test_size = len(sm_test)"
   ]
  },
  {
   "cell_type": "code",
   "execution_count": 15,
   "metadata": {
    "ExecuteTime": {
     "start_time": "2020-02-05T12:14:13.326Z"
    },
    "pycharm": {
     "is_executing": false,
     "name": "#%%\n"
    }
   },
   "outputs": [
    {
     "name": "stderr",
     "text": [
      "Average Loss = -158.41: 100%|██████████| 30000/30000 [00:14<00:00, 2078.40it/s] \n",
      "Finished [100%]: Average Loss = -158.4\n"
     ],
     "output_type": "stream"
    }
   ],
   "source": [
    "x_0 = theano.shared(sm_train[:, 0])\n",
    "x_1 = theano.shared(sm_train[:, 1])\n",
    "x_2 = theano.shared(sm_train[:, 2])\n",
    "x_3 = theano.shared(sm_train[:, 3])\n",
    "y = theano.shared(lm_train)\n",
    "\n",
    "with pm.Model() as test_model:\n",
    "    sigma_2 = pm.HalfCauchy('sigma_2', 2)\n",
    "    coef_2 = pm.Normal('coef_2', mu=0, sigma=1, shape=3)\n",
    "    mu_2 = coef_2[0] + coef_2[1] * x_0 + coef_2[2] * x_1\n",
    "    eps_2 = pm.Normal('eps_2', mu=0, sigma=sigma_2)\n",
    "    xm_2 = pm.Deterministic('xm_2', mu_2 + eps_2)\n",
    "    \n",
    "    sigma_y = pm.HalfCauchy('sigma_y', 2)\n",
    "    coef_y = pm.Normal('coef_y', mu=0, sigma=1, shape=3)\n",
    "    mu_2 = coef_y[0] + coef_y[1] * xm_2 + coef_y[2] * x_3\n",
    "    y = pm.Normal('Y', mu=mu_2, sigma=sigma_y, observed=y)\n",
    "    \n",
    "    approx = pm.fit(30000)\n",
    "    # trace = pm.sample()"
   ]
  },
  {
   "cell_type": "code",
   "execution_count": 16,
   "metadata": {
    "ExecuteTime": {
     "end_time": "2020-02-05T12:11:24.715147Z",
     "start_time": "2020-02-05T12:10:19.958120Z"
    },
    "pycharm": {
     "is_executing": false
    }
   },
   "outputs": [],
   "source": [
    "x_0.set_value(sm_test[:, 0])\n",
    "x_1.set_value(sm_test[:, 1])\n",
    "x_2.set_value(sm_test[:, 2])\n",
    "x_3.set_value(sm_test[:, 3])"
   ]
  },
  {
   "cell_type": "code",
   "execution_count": null,
   "outputs": [],
   "source": [
    "# MCMC error\n",
    "ppc = pm.sample_posterior_predictive(trace, model=test_model, samples=1000)\n",
    "pred_mcmc = ppc['Y'].mean(axis=0)\n",
    "mse_mcmc = mean_squared_error(lm_test, pred_mcmc)\n",
    "print(mse_mcmc)"
   ],
   "metadata": {
    "collapsed": false,
    "pycharm": {
     "name": "#%%\n"
    }
   }
  },
  {
   "cell_type": "code",
   "execution_count": 17,
   "outputs": [
    {
     "name": "stderr",
     "text": [
      "100%|██████████| 1000/1000 [00:16<00:00, 60.95it/s]\n"
     ],
     "output_type": "stream"
    },
    {
     "name": "stdout",
     "text": [
      "0.01110024886362027\n"
     ],
     "output_type": "stream"
    }
   ],
   "source": [
    "# ADVI error\n",
    "ppc = pm.sample_posterior_predictive(approx.sample(100000), model=test_model, samples=1000)\n",
    "pred_advi = ppc['Y'].mean(axis=0)\n",
    "mse_advi = mean_squared_error(lm_test, pred_advi)\n",
    "print(mse_advi)"
   ],
   "metadata": {
    "collapsed": false,
    "pycharm": {
     "name": "#%%\n",
     "is_executing": false
    }
   }
  },
  {
   "cell_type": "code",
   "execution_count": 18,
   "outputs": [
    {
     "name": "stderr",
     "text": [
      "Average Loss = -294.24: 100%|██████████| 50000/50000 [00:18<00:00, 2661.90it/s]  \n",
      "Finished [100%]: Average Loss = -294.24\n"
     ],
     "output_type": "stream"
    }
   ],
   "source": [
    "x = theano.shared(sm_train)\n",
    "y = theano.shared(lm_train)\n",
    "\n",
    "linreg_model = pm.Model()\n",
    "with linreg_model:\n",
    "    sigma = pm.HalfCauchy('Sigma', beta=2)\n",
    "    intercept = pm.Normal('Intercept', mu=0, sigma=1)\n",
    "    coef = pm.Normal('Coef', mu=0, sigma=1, shape=17)\n",
    "    ym = pm.Normal('Y', mu=intercept + pm.math.dot(x, coef), sigma=sigma, observed=y)\n",
    "    # trace = pm.sample(cores=3, init='nuts')\n",
    "    approx = pm.fit(50000)\n"
   ],
   "metadata": {
    "collapsed": false,
    "pycharm": {
     "name": "#%%\n",
     "is_executing": false
    }
   }
  },
  {
   "cell_type": "code",
   "execution_count": null,
   "outputs": [],
   "source": [
    "# MCMC error\n",
    "x.set_value(sm_test)\n",
    "ppc = pm.sample_posterior_predictive(trace, model=linreg_model, samples=1000)\n",
    "pred_mcmc = ppc['Y'].mean(axis=0)\n",
    "mse_mcmc = mean_squared_error(lm_test, pred_mcmc)\n",
    "print(mse_mcmc)"
   ],
   "metadata": {
    "collapsed": false,
    "pycharm": {
     "name": "#%%\n",
     "is_executing": false
    }
   }
  },
  {
   "cell_type": "code",
   "execution_count": 19,
   "outputs": [
    {
     "name": "stderr",
     "text": [
      "100%|██████████| 1000/1000 [00:13<00:00, 72.29it/s]\n"
     ],
     "output_type": "stream"
    },
    {
     "name": "stdout",
     "text": [
      "0.0025137717692478565\n"
     ],
     "output_type": "stream"
    }
   ],
   "source": [
    "# ADVI error\n",
    "x.set_value(sm_test)\n",
    "ppc = pm.sample_posterior_predictive(approx.sample(100000), model=linreg_model, samples=1000)\n",
    "pred_advi = ppc['Y'].mean(axis=0)\n",
    "mse_advi = mean_squared_error(lm_test, pred_advi)\n",
    "print(mse_advi)"
   ],
   "metadata": {
    "collapsed": false,
    "pycharm": {
     "name": "#%%\n",
     "is_executing": false
    }
   }
  },
  {
   "cell_type": "code",
   "execution_count": null,
   "outputs": [],
   "source": [],
   "metadata": {
    "collapsed": false,
    "pycharm": {
     "name": "#%%\n",
     "is_executing": false
    }
   }
  },
  {
   "cell_type": "code",
   "execution_count": null,
   "outputs": [],
   "source": [
    "# There is unused code below, it doesn't work yet"
   ],
   "metadata": {
    "collapsed": false,
    "pycharm": {
     "name": "#%%\n",
     "is_executing": false
    }
   }
  },
  {
   "cell_type": "code",
   "execution_count": null,
   "outputs": [],
   "source": [],
   "metadata": {
    "collapsed": false,
    "pycharm": {
     "name": "#%%\n",
     "is_executing": false
    }
   }
  },
  {
   "cell_type": "code",
   "execution_count": null,
   "metadata": {
    "ExecuteTime": {
     "end_time": "2020-02-05T11:52:00.798163Z",
     "start_time": "2020-02-05T11:52:00.612164Z"
    },
    "pycharm": {
     "is_executing": false
    }
   },
   "outputs": [],
   "source": [
    "test_mse = tt.sqr(pred_sample - lm_test).mean(-1)\n",
    "# train_mse = tt.sqr(train_metrics - lm_train).mean(-1)\n",
    "eval_tracker = pm.callbacks.Tracker(\n",
    "    test_mse=test_mse.eval,\n",
    ")\n",
    "\n",
    "inference.fit(40, callbacks=[eval_tracker])"
   ]
  },
  {
   "cell_type": "code",
   "execution_count": null,
   "metadata": {
    "pycharm": {
     "is_executing": false,
     "name": "#%%\n"
    }
   },
   "outputs": [],
   "source": [
    "sampled = np.asarray(eval_tracker['samples'])\n",
    "print(sampled[0])\n",
    "print(x_0.eval())"
   ]
  },
  {
   "cell_type": "code",
   "execution_count": null,
   "metadata": {
    "ExecuteTime": {
     "end_time": "2020-02-04T21:04:18.201024Z",
     "start_time": "2020-02-04T21:04:17.828222Z"
    },
    "pycharm": {
     "is_executing": false,
     "name": "#%%\n"
    }
   },
   "outputs": [],
   "source": [
    "x_0 = theano.shared(sm_train[:, 0])\n",
    "x_1 = theano.shared(sm_train[:, 1])\n",
    "x_2 = theano.shared(sm_train[:, 2])\n",
    "y = theano.shared(lm_train)\n",
    "\n",
    "model = pm.Model()\n",
    "with model:\n",
    "    intercept_2 = pm.Normal('Intercept_2', mu=0, sigma=1)\n",
    "    coef_2 = pm.Normal('Coef_2', mu=0, sigma=1, shape=2)\n",
    "    \n",
    "    xm_2 = pm.Normal('Xm_2', mu=intercept_2 + x_0 * coef_2[0]  + x_1 * coef_2[1], sigma=0.2, observed=x_2)\n",
    "    coef_y = pm.Normal('Coef_y', mu=0, sigma=1)\n",
    "    intercept_y = pm.Normal('Intercept_y', mu=0, sigma=1)\n",
    "    y = pm.Normal('Y', mu=intercept_y + xm_2*coef_y, sigma=0.2, observed=y)\n"
   ]
  },
  {
   "cell_type": "code",
   "execution_count": null,
   "metadata": {
    "ExecuteTime": {
     "end_time": "2020-02-04T21:14:00.061689Z",
     "start_time": "2020-02-04T21:13:59.849794Z"
    },
    "pycharm": {
     "is_executing": false,
     "name": "#%%\n"
    }
   },
   "outputs": [],
   "source": [
    "with model:\n",
    "    \n",
    "    inference = pm.SVGD(n_particles=500, jitter=1)\n",
    "\n",
    "    approx = inference.approx\n",
    "\n",
    "    replacements = {\n",
    "                    x_0: sm_test[:, 0],\n",
    "                    x_1: sm_test[:, 1],\n",
    "                    x_2: sm_test[:, 2],\n",
    "                    }\n",
    "\n",
    "    test_intercept_2 = approx.sample_node(intercept_2, more_replacements=replacements, size=10)\n",
    "    test_coef_2 = approx.sample_node(coef_2, more_replacements=replacements, size=10)\n",
    "    test_intercept_y = approx.sample_node(intercept_y, more_replacements=replacements, size=10)\n",
    "    test_coef_y = approx.sample_node(coef_y, more_replacements=replacements, size=10)\n"
   ]
  },
  {
   "cell_type": "code",
   "execution_count": null,
   "metadata": {
    "ExecuteTime": {
     "end_time": "2020-02-04T21:14:00.369704Z",
     "start_time": "2020-02-04T21:14:00.348715Z"
    },
    "pycharm": {
     "is_executing": false,
     "name": "#%%\n"
    }
   },
   "outputs": [],
   "source": [
    "x_0 = theano.shared(sm_test[:, 0])\n",
    "x_1 = theano.shared(sm_test[:, 1])\n",
    "x_2 = theano.shared(sm_test[:, 2])\n",
    "y = theano.shared(lm_test)\n",
    "\n",
    "test_mse = tt.sqr(x_2 * test_coef_y - y).mean(-1)\n",
    "# train_mse = tt.sqr(train_metrics - lm_train).mean(-1)\n",
    "eval_tracker = pm.callbacks.Tracker(\n",
    "    test_accuracy=test_mse.eval,\n",
    "    train_accuracy=train_mse.eval\n",
    ")\n",
    "\n",
    "inference.fit(40, callbacks=[eval_tracker])"
   ]
  },
  {
   "cell_type": "code",
   "execution_count": null,
   "metadata": {
    "pycharm": {
     "is_executing": false,
     "name": "#%%\n"
    }
   },
   "outputs": [],
   "source": [
    "eval_tracker = pm.callbacks.Tracker(\n",
    "    test_mse=test_metrics.eval,\n",
    ")\n",
    "\n",
    "inference.fit(40, callbacks=[eval_tracker])"
   ]
  },
  {
   "cell_type": "code",
   "execution_count": null,
   "metadata": {
    "pycharm": {
     "is_executing": false,
     "name": "#%%\n"
    }
   },
   "outputs": [],
   "source": [
    "mse = np.array(eval_tracker['test_mse'])\n",
    "print(mse.shape)"
   ]
  },
  {
   "cell_type": "code",
   "execution_count": null,
   "metadata": {
    "pycharm": {
     "is_executing": false,
     "name": "#%%\n"
    }
   },
   "outputs": [],
   "source": [
    "print(test_metrics.eval().shape)\n",
    "# test_data = pd.DataFrame(np.asarray(eval_tracker['test_accuracy']).T).melt()\n",
    "# print(test_data)"
   ]
  },
  {
   "cell_type": "code",
   "execution_count": null,
   "metadata": {
    "pycharm": {
     "is_executing": false,
     "name": "#%%\n"
    }
   },
   "outputs": [],
   "source": [
    "test_data = pd.DataFrame(np.asarray(eval_tracker['test_accuracy']).T).melt()\n",
    "\n",
    "# plt.plot(np.asarray(eval_tracker['train_accuracy']), color='blue')\n",
    "sns.lineplot(x=\"variable\", y=\"value\", data=test_data, color='red')# sns.lineplot(data=np.asarray(eval_tracker['train_accuracy']).T, color='blue')\n",
    "plt.legend(['test_accuracy', 'train_accuracy'])\n",
    "plt.title('Training Progress')"
   ]
  },
  {
   "cell_type": "code",
   "execution_count": null,
   "metadata": {
    "pycharm": {
     "is_executing": false,
     "name": "#%%\n"
    }
   },
   "outputs": [],
   "source": []
  }
 ],
 "metadata": {
  "kernelspec": {
   "display_name": "PyCharm (VK_Graduation)",
   "language": "python",
   "name": "pycharm-ec5ed5f6"
  },
  "pycharm": {
   "stem_cell": {
    "cell_type": "raw",
    "source": [],
    "metadata": {
     "collapsed": false
    }
   }
  }
 },
 "nbformat": 4,
 "nbformat_minor": 1
}