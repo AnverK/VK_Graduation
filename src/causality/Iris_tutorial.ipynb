{
 "cells": [
  {
   "cell_type": "code",
   "execution_count": null,
   "metadata": {
    "collapsed": true,
    "pycharm": {
     "is_executing": false
    }
   },
   "outputs": [],
   "source": [
    "from sklearn.datasets import load_iris\n",
    "from sklearn.model_selection import train_test_split\n",
    "import theano.tensor as tt\n",
    "import pymc3 as pm\n",
    "import theano\n",
    "import matplotlib.pyplot as plt\n",
    "import numpy as np\n",
    "import seaborn as sns\n",
    "import pandas as pd\n"
   ]
  },
  {
   "cell_type": "code",
   "execution_count": null,
   "outputs": [],
   "source": [
    "X, y = load_iris(True)\n",
    "X_train, X_test, y_train, y_test = train_test_split(X, y)"
   ],
   "metadata": {
    "collapsed": false,
    "pycharm": {
     "name": "#%%\n"
    }
   }
  },
  {
   "cell_type": "code",
   "execution_count": null,
   "outputs": [],
   "source": [
    "Xt = theano.shared(X_train)\n",
    "yt = theano.shared(y_train)\n",
    "\n",
    "with pm.Model() as iris_model:\n",
    "\n",
    "    # Coefficients for features\n",
    "    x = pm.Normal('x', mu=0, sigma=1, observed=)\n",
    "    beta = pm.Normal('beta', 0, sigma=1e2, shape=(4, 3))\n",
    "    # Transoform to unit interval\n",
    "    a = pm.Flat('a', shape=(3,))\n",
    "    p = tt.nnet.softmax(x.dot(beta) + a)\n",
    "    \n",
    "    observed = pm.Categorical('obs', p=p, observed=yt)"
   ],
   "metadata": {
    "collapsed": false,
    "pycharm": {
     "name": "#%%\n",
     "is_executing": false
    }
   }
  },
  {
   "cell_type": "code",
   "execution_count": null,
   "outputs": [],
   "source": [
    "with iris_model:\n",
    "\n",
    "    # We'll use SVGD\n",
    "    inference = pm.SVGD(n_particles=500, jitter=1)\n",
    "\n",
    "    # Local reference to approximation\n",
    "    approx = inference.approx\n",
    "\n",
    "    # Here we need `more_replacements` to change train_set to test_set\n",
    "    test_probs = approx.sample_node(p, more_replacements={Xt: X_test}, size=100)\n",
    "\n",
    "    # For train set no more replacements needed\n",
    "    train_probs = approx.sample_node(p)"
   ],
   "metadata": {
    "collapsed": false,
    "pycharm": {
     "name": "#%%\n",
     "is_executing": false
    }
   }
  },
  {
   "cell_type": "code",
   "execution_count": null,
   "outputs": [],
   "source": [
    "test_ok = tt.eq(test_probs.argmax(-1), y_test)\n",
    "train_ok = tt.eq(train_probs.argmax(-1), y_train)\n",
    "test_accuracy = test_ok.mean(-1)\n",
    "train_accuracy = train_ok.mean(-1)"
   ],
   "metadata": {
    "collapsed": false,
    "pycharm": {
     "name": "#%%\n",
     "is_executing": false
    }
   }
  },
  {
   "cell_type": "code",
   "execution_count": null,
   "outputs": [],
   "source": [
    "eval_tracker = pm.callbacks.Tracker(\n",
    "    test_accuracy=test_accuracy.eval,\n",
    "    train_accuracy=train_accuracy.eval,\n",
    "    test_p=test_probs.eval,\n",
    "    train_p=train_probs.eval\n",
    ")"
   ],
   "metadata": {
    "collapsed": false,
    "pycharm": {
     "name": "#%%\n",
     "is_executing": false
    }
   }
  },
  {
   "cell_type": "code",
   "execution_count": null,
   "outputs": [],
   "source": [
    "inference.fit(400, obj_optimizer=pm.adamax(learning_rate=0.1), callbacks=[eval_tracker]);"
   ],
   "metadata": {
    "collapsed": false,
    "pycharm": {
     "name": "#%%\n",
     "is_executing": false
    }
   }
  },
  {
   "cell_type": "code",
   "execution_count": null,
   "outputs": [],
   "source": [
    "test_data = pd.DataFrame(np.asarray(eval_tracker['test_accuracy']).T).melt()\n",
    "\n",
    "# plt.plot(np.asarray(eval_tracker['train_accuracy']), color='blue')\n",
    "sns.lineplot(x=\"variable\", y=\"value\", data=test_data, color='red')\n",
    "plt.legend(['test_accuracy'])\n",
    "plt.title('Training Progress')"
   ],
   "metadata": {
    "collapsed": false,
    "pycharm": {
     "name": "#%%\n",
     "is_executing": false
    }
   }
  },
  {
   "cell_type": "code",
   "execution_count": null,
   "outputs": [],
   "source": [],
   "metadata": {
    "collapsed": false,
    "pycharm": {
     "name": "#%%\n",
     "is_executing": false
    }
   }
  }
 ],
 "metadata": {
  "kernelspec": {
   "name": "pycharm-ec5ed5f6",
   "language": "python",
   "display_name": "PyCharm (VK_Graduation)"
  },
  "language_info": {
   "codemirror_mode": {
    "name": "ipython",
    "version": 2
   },
   "file_extension": ".py",
   "mimetype": "text/x-python",
   "name": "python",
   "nbconvert_exporter": "python",
   "pygments_lexer": "ipython2",
   "version": "2.7.6"
  },
  "pycharm": {
   "stem_cell": {
    "cell_type": "raw",
    "source": [],
    "metadata": {
     "collapsed": false
    }
   }
  }
 },
 "nbformat": 4,
 "nbformat_minor": 0
}